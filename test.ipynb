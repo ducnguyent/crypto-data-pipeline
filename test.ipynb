{
 "cells": [
  {
   "cell_type": "code",
   "execution_count": null,
   "id": "ef03d98f",
   "metadata": {},
   "outputs": [],
   "source": [
    "from shared.logging_config import setup_logging\n",
    "setup_logging()"
   ]
  },
  {
   "cell_type": "code",
   "execution_count": null,
   "id": "9f376458",
   "metadata": {},
   "outputs": [],
   "source": [
    "from streaming import binance_websocket, config\n",
    "\n",
    "client = binance_websocket.BinanceWebSocketClient(\n",
    "    symbols=[\"BTCUSDT\", \"ETHUSDT\"],\n",
    "    streams=[\"trade\", \"kline_1m\"],\n",
    "    callback=lambda data: print(data),  # Example callback function\n",
    "    config=config.StreamingConfig()\n",
    ")\n"
   ]
  },
  {
   "cell_type": "code",
   "execution_count": null,
   "id": "39f99b08",
   "metadata": {},
   "outputs": [],
   "source": [
    "# Start the WebSocket client\n",
    "await client.connect()"
   ]
  },
  {
   "cell_type": "code",
   "execution_count": null,
   "id": "e00c3c8f",
   "metadata": {},
   "outputs": [],
   "source": [
    "client._extract_symbol(\"stream=btcusdt@trade\")  # Example usage of _extract_symbol method"
   ]
  },
  {
   "cell_type": "code",
   "execution_count": 8,
   "id": "979838ee",
   "metadata": {},
   "outputs": [
    {
     "name": "stderr",
     "output_type": "stream",
     "text": [
      "2025-08-11 22:16:07,834 - kafka.conn - INFO - <BrokerConnection node_id=bootstrap-0 host=localhost:9092 <connecting> [IPv4 ('127.0.0.1', 9092)]>: connecting to localhost:9092 [('127.0.0.1', 9092) IPv4]\n",
      "2025-08-11 22:16:07,838 - kafka.conn - INFO - Probing node bootstrap-0 broker version\n",
      "2025-08-11 22:16:07,840 - kafka.conn - INFO - <BrokerConnection node_id=bootstrap-0 host=localhost:9092 <connecting> [IPv4 ('127.0.0.1', 9092)]>: Connection complete.\n",
      "2025-08-11 22:16:07,947 - kafka.conn - INFO - Broker version identified as 2.5.0\n",
      "2025-08-11 22:16:07,950 - kafka.conn - INFO - Set configuration api_version=(2, 5, 0) to skip auto check_version requests on startup\n",
      "2025-08-11 22:16:07,963 - kafka.conn - INFO - <BrokerConnection node_id=1 host=localhost:9092 <connecting> [IPv4 ('127.0.0.1', 9092)]>: connecting to localhost:9092 [('127.0.0.1', 9092) IPv4]\n",
      "2025-08-11 22:16:07,965 - kafka.conn - INFO - <BrokerConnection node_id=1 host=localhost:9092 <connecting> [IPv4 ('127.0.0.1', 9092)]>: Connection complete.\n",
      "2025-08-11 22:16:07,967 - kafka.conn - INFO - <BrokerConnection node_id=bootstrap-0 host=localhost:9092 <connected> [IPv4 ('127.0.0.1', 9092)]>: Closing connection. \n",
      "2025-08-11 22:16:07,974 - kafka.conn - INFO - <BrokerConnection node_id=1 host=localhost:9092 <connected> [IPv4 ('127.0.0.1', 9092)]>: Closing connection. \n"
     ]
    }
   ],
   "source": [
    "from kafka import KafkaProducer\n",
    "import json\n",
    "\n",
    "producer = KafkaProducer(\n",
    "    bootstrap_servers=['localhost:9092'],  # Adjust to 'kafka:29092' if running inside Docker\n",
    "    value_serializer=lambda x: json.dumps(x).encode('utf-8')\n",
    ")\n",
    "\n",
    "# Send a test message\n",
    "producer.send('crypto_raw_ethusdt_trade', value={'symbol': 'ETHUSDT', 'stream_type': 'trade', 'data': 'test'})\n",
    "producer.flush()\n",
    "producer.close()"
   ]
  },
  {
   "cell_type": "code",
   "execution_count": null,
   "id": "345bf541",
   "metadata": {},
   "outputs": [],
   "source": []
  }
 ],
 "metadata": {
  "kernelspec": {
   "display_name": ".venv",
   "language": "python",
   "name": "python3"
  },
  "language_info": {
   "codemirror_mode": {
    "name": "ipython",
    "version": 3
   },
   "file_extension": ".py",
   "mimetype": "text/x-python",
   "name": "python",
   "nbconvert_exporter": "python",
   "pygments_lexer": "ipython3",
   "version": "3.10.12"
  }
 },
 "nbformat": 4,
 "nbformat_minor": 5
}
