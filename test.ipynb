{
 "cells": [
  {
   "cell_type": "code",
   "execution_count": null,
   "id": "ef03d98f",
   "metadata": {},
   "outputs": [],
   "source": [
    "from shared.logging_config import setup_logging\n",
    "setup_logging()"
   ]
  },
  {
   "cell_type": "code",
   "execution_count": null,
   "id": "9f376458",
   "metadata": {},
   "outputs": [],
   "source": [
    "from streaming import binance_websocket, config\n",
    "\n",
    "client = binance_websocket.BinanceWebSocketClient(\n",
    "    symbols=[\"BTCUSDT\", \"ETHUSDT\"],\n",
    "    streams=[\"trade\", \"kline_1m\"],\n",
    "    callback=lambda data: print(data),  # Example callback function\n",
    "    config=config.StreamingConfig()\n",
    ")\n"
   ]
  },
  {
   "cell_type": "code",
   "execution_count": null,
   "id": "39f99b08",
   "metadata": {},
   "outputs": [],
   "source": [
    "# Start the WebSocket client\n",
    "await client.connect()"
   ]
  },
  {
   "cell_type": "code",
   "execution_count": null,
   "id": "e00c3c8f",
   "metadata": {},
   "outputs": [],
   "source": [
    "client._extract_symbol(\"stream=btcusdt@trade\")  # Example usage of _extract_symbol method"
   ]
  },
  {
   "cell_type": "code",
   "execution_count": 8,
   "id": "979838ee",
   "metadata": {},
   "outputs": [
    {
     "name": "stderr",
     "output_type": "stream",
     "text": [
      "2025-08-11 22:16:07,834 - kafka.conn - INFO - <BrokerConnection node_id=bootstrap-0 host=localhost:9092 <connecting> [IPv4 ('127.0.0.1', 9092)]>: connecting to localhost:9092 [('127.0.0.1', 9092) IPv4]\n",
      "2025-08-11 22:16:07,838 - kafka.conn - INFO - Probing node bootstrap-0 broker version\n",
      "2025-08-11 22:16:07,840 - kafka.conn - INFO - <BrokerConnection node_id=bootstrap-0 host=localhost:9092 <connecting> [IPv4 ('127.0.0.1', 9092)]>: Connection complete.\n",
      "2025-08-11 22:16:07,947 - kafka.conn - INFO - Broker version identified as 2.5.0\n",
      "2025-08-11 22:16:07,950 - kafka.conn - INFO - Set configuration api_version=(2, 5, 0) to skip auto check_version requests on startup\n",
      "2025-08-11 22:16:07,963 - kafka.conn - INFO - <BrokerConnection node_id=1 host=localhost:9092 <connecting> [IPv4 ('127.0.0.1', 9092)]>: connecting to localhost:9092 [('127.0.0.1', 9092) IPv4]\n",
      "2025-08-11 22:16:07,965 - kafka.conn - INFO - <BrokerConnection node_id=1 host=localhost:9092 <connecting> [IPv4 ('127.0.0.1', 9092)]>: Connection complete.\n",
      "2025-08-11 22:16:07,967 - kafka.conn - INFO - <BrokerConnection node_id=bootstrap-0 host=localhost:9092 <connected> [IPv4 ('127.0.0.1', 9092)]>: Closing connection. \n",
      "2025-08-11 22:16:07,974 - kafka.conn - INFO - <BrokerConnection node_id=1 host=localhost:9092 <connected> [IPv4 ('127.0.0.1', 9092)]>: Closing connection. \n"
     ]
    }
   ],
   "source": [
    "from kafka import KafkaProducer\n",
    "import json\n",
    "\n",
    "producer = KafkaProducer(\n",
    "    bootstrap_servers=['localhost:9092'],  # Adjust to 'kafka:29092' if running inside Docker\n",
    "    value_serializer=lambda x: json.dumps(x).encode('utf-8')\n",
    ")\n",
    "\n",
    "# Send a test message\n",
    "producer.send('crypto_raw_ethusdt_trade', value={'symbol': 'ETHUSDT', 'stream_type': 'trade', 'data': 'test'})\n",
    "producer.flush()\n",
    "producer.close()"
   ]
  },
  {
   "cell_type": "code",
   "execution_count": null,
   "id": "345bf541",
   "metadata": {},
   "outputs": [],
   "source": [
    "from kafka import KafkaConsumer\n",
    "\n",
    "KAFKA_SERVERS = ['localhost:9092']  # Change to your Kafka servers\n",
    "TEST_TOPIC = 'crypto_raw_ethusdt_trade'\n",
    "try:\n",
    "    consumer = KafkaConsumer(\n",
    "        TEST_TOPIC,\n",
    "        bootstrap_servers=KAFKA_SERVERS,\n",
    "        auto_offset_reset='earliest',\n",
    "        value_deserializer=lambda m: json.loads(m.decode('utf-8')),\n",
    "        consumer_timeout_ms=5000  # 5 second timeout\n",
    "    )\n",
    "    \n",
    "    print(f\"   Consuming from '{TEST_TOPIC}'...\")\n",
    "    message_count = 0\n",
    "    \n",
    "    for message in consumer:\n",
    "        message_count += 1\n",
    "        print(f\"   ✓ Received message #{message_count}\")\n",
    "        print(f\"     Key: {message.key}\")\n",
    "        print(f\"     Value: {json.dumps(message.value, indent=2)}\")\n",
    "        print(f\"     Partition: {message.partition}\")\n",
    "        print(f\"     Offset: {message.offset}\")\n",
    "        \n",
    "        # Just read a few messages for testing\n",
    "        if message.key == b'ADAUSDT':\n",
    "            break\n",
    "    \n",
    "    if message_count == 0:\n",
    "        print(f\"   ⚠ No messages found in topic '{TEST_TOPIC}'\")\n",
    "    else:\n",
    "        print(f\"   ✓ Successfully consumed {message_count} messages\")\n",
    "        \n",
    "    consumer.close()\n",
    "    \n",
    "except Exception as e:\n",
    "    print(f\"   ✗ Consumer error: {e}\")"
   ]
  }
 ],
 "metadata": {
  "kernelspec": {
   "display_name": ".venv",
   "language": "python",
   "name": "python3"
  },
  "language_info": {
   "codemirror_mode": {
    "name": "ipython",
    "version": 3
   },
   "file_extension": ".py",
   "mimetype": "text/x-python",
   "name": "python",
   "nbconvert_exporter": "python",
   "pygments_lexer": "ipython3",
   "version": "3.10.12"
  }
 },
 "nbformat": 4,
 "nbformat_minor": 5
}
