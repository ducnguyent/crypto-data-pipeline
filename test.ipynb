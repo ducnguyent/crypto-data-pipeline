{
 "cells": [
  {
   "cell_type": "code",
   "execution_count": null,
   "id": "ef03d98f",
   "metadata": {},
   "outputs": [],
   "source": [
    "from shared.logging_config import setup_logging\n",
    "setup_logging()"
   ]
  },
  {
   "cell_type": "code",
   "execution_count": null,
   "id": "9f376458",
   "metadata": {},
   "outputs": [],
   "source": [
    "from streaming import binance_websocket, config\n",
    "\n",
    "client = binance_websocket.BinanceWebSocketClient(\n",
    "    symbols=[\"BTCUSDT\", \"ETHUSDT\"],\n",
    "    streams=[\"trade\", \"kline_1m\"],\n",
    "    callback=lambda data: print(data),  # Example callback function\n",
    "    config=config.StreamingConfig()\n",
    ")\n"
   ]
  },
  {
   "cell_type": "code",
   "execution_count": null,
   "id": "39f99b08",
   "metadata": {},
   "outputs": [],
   "source": [
    "# Start the WebSocket client\n",
    "await client.connect()"
   ]
  },
  {
   "cell_type": "code",
   "execution_count": null,
   "id": "e00c3c8f",
   "metadata": {},
   "outputs": [],
   "source": [
    "client._extract_symbol(\"stream=btcusdt@trade\")  # Example usage of _extract_symbol method"
   ]
  },
  {
   "cell_type": "code",
   "execution_count": null,
   "id": "979838ee",
   "metadata": {},
   "outputs": [],
   "source": [
    "client."
   ]
  },
  {
   "cell_type": "code",
   "execution_count": null,
   "id": "bf86f813",
   "metadata": {},
   "outputs": [],
   "source": []
  }
 ],
 "metadata": {
  "kernelspec": {
   "display_name": ".venv",
   "language": "python",
   "name": "python3"
  },
  "language_info": {
   "codemirror_mode": {
    "name": "ipython",
    "version": 3
   },
   "file_extension": ".py",
   "mimetype": "text/x-python",
   "name": "python",
   "nbconvert_exporter": "python",
   "pygments_lexer": "ipython3",
   "version": "3.10.12"
  }
 },
 "nbformat": 4,
 "nbformat_minor": 5
}
